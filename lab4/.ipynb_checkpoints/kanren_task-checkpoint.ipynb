{
 "cells": [
  {
   "cell_type": "code",
   "execution_count": 1,
   "metadata": {},
   "outputs": [
    {
     "name": "stdout",
     "output_type": "stream",
     "text": [
      "Collecting kanren\n",
      "  Downloading https://files.pythonhosted.org/packages/f7/28/2c95935bed9ab8a62f6c2c05339754ef0b85f2bc8f186d7089ed91a1c0b0/kanren-0.2.3.tar.gz\n",
      "Requirement already satisfied: toolz in c:\\programdata\\anaconda3\\lib\\site-packages (from kanren) (0.10.0)\n",
      "Requirement already satisfied: multipledispatch in c:\\programdata\\anaconda3\\lib\\site-packages (from kanren) (0.6.0)\n",
      "Collecting unification (from kanren)\n",
      "  Downloading https://files.pythonhosted.org/packages/f2/6d/24285df596df88923ceea78d980f5dabd1c511e562d9ec1db305fc7c43cd/unification-0.2.2-py2.py3-none-any.whl\n",
      "Requirement already satisfied: six in c:\\programdata\\anaconda3\\lib\\site-packages (from multipledispatch->kanren) (1.12.0)\n",
      "Building wheels for collected packages: kanren\n",
      "  Building wheel for kanren (setup.py): started\n",
      "  Building wheel for kanren (setup.py): finished with status 'done'\n",
      "  Created wheel for kanren: filename=kanren-0.2.3-cp37-none-any.whl size=15864 sha256=9f1962616fc04c1971c1f848a0b5026bfe0e824e591eb65e0f187ba004d2bea8\n",
      "  Stored in directory: C:\\Users\\User\\AppData\\Local\\pip\\Cache\\wheels\\35\\88\\2f\\39231696c71f804e59a7c44e089bc775c620ab22ed31354c7a\n",
      "Successfully built kanren\n",
      "Installing collected packages: unification, kanren\n",
      "Successfully installed kanren-0.2.3 unification-0.2.2\n"
     ]
    }
   ],
   "source": [
    "!pip install kanren"
   ]
  },
  {
   "cell_type": "code",
   "execution_count": 2,
   "metadata": {},
   "outputs": [],
   "source": [
    "from kanren import *\n",
    "from kanren.core import lall"
   ]
  },
  {
   "cell_type": "code",
   "execution_count": 3,
   "metadata": {},
   "outputs": [],
   "source": [
    "def left(q, p, list):\n",
    "    return membero((q,p), zip(list, list[1:]))\n",
    "\n",
    "def next(q, p, list):\n",
    "    return conde([left(q, p, list)], [left(p, q, list)])"
   ]
  },
  {
   "cell_type": "code",
   "execution_count": null,
   "metadata": {},
   "outputs": [],
   "source": [
    "Каждому кораблю — в свой порт\n",
    "В порте пять кораблей.\n",
    "1. Греческий корабль отчаливает в шесть. Он везет кофе.\n",
    "2. У корабля, который в середине — черная труба.\n",
    "3. Английский корабль отплывает в девять.\n",
    "4. Французский корабль, у которого синяя труба, пришвартован слева от корабля, который везет кофе.\n",
    "5. Справа от корабля, на котором груз какао, корабль, который плывет в Марсель.\n",
    "6. Корабль под бразильским флагом направляется на Манилы.\n",
    "7. Рядом с кораблем, на котором рис, — корабль с зеленой трубой.\n",
    "8. Корабль, плывущий в Геную, отходит в пять.\n",
    "9. Испанский корабль отплывает в семь и находится справа от корабля, плывущего в Марсель.\n",
    "10. Корабль с красной трубой направляется в Гамбург.\n",
    "11. Рядом с кораблем, который отчаливает в семь, корабль с белой трубой.\n",
    "12. На крайнем корабле — зерно.\n",
    "13. Корабль с черной трубой отплывает в восемь.\n",
    "14. Корабль с зерном пришвартован рядом с кораблем, на котором груз риса.\n",
    "15. Корабль, следующий до Гамбурга, отчаливает в 6.\n",
    "Вопрос:\n",
    "Который корабль плывет в Порт-Саид? Который гружен чаем?"
   ]
  },
  {
   "cell_type": "code",
   "execution_count": null,
   "metadata": {},
   "outputs": [],
   "source": []
  },
  {
   "cell_type": "code",
   "execution_count": null,
   "metadata": {},
   "outputs": [],
   "source": []
  },
  {
   "cell_type": "code",
   "execution_count": null,
   "metadata": {},
   "outputs": [],
   "source": []
  },
  {
   "cell_type": "code",
   "execution_count": null,
   "metadata": {},
   "outputs": [],
   "source": []
  }
 ],
 "metadata": {
  "kernelspec": {
   "display_name": "Python 3",
   "language": "python",
   "name": "python3"
  },
  "language_info": {
   "codemirror_mode": {
    "name": "ipython",
    "version": 3
   },
   "file_extension": ".py",
   "mimetype": "text/x-python",
   "name": "python",
   "nbconvert_exporter": "python",
   "pygments_lexer": "ipython3",
   "version": "3.7.4"
  }
 },
 "nbformat": 4,
 "nbformat_minor": 4
}
